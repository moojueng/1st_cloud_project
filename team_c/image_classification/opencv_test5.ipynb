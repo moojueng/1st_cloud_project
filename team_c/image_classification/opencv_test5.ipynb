{
 "cells": [
  {
   "cell_type": "code",
   "execution_count": 1,
   "id": "45d92490",
   "metadata": {},
   "outputs": [],
   "source": [
    "import sys\n",
    "sys.path.append('C:/Users/jangj/anaconda3/envs/tf/Lib/site-packages')\n",
    "import cv2\n",
    "import os\n",
    "import glob"
   ]
  },
  {
   "cell_type": "code",
   "execution_count": null,
   "id": "da300471",
   "metadata": {},
   "outputs": [],
   "source": [
    "count = 0\n",
    "path_F = \"C:/code/python/opencv_test/fire_img/\"\n",
    "path_save_F = \"C:/code/python/opencv_test/cvt_fire_img/\"\n",
    "path_png = \".png\"\n",
    "files = glob.glob(\"C:/code/python/opencv_test/fire_img/*.png\")\n",
    "print(\"파일 길이 :\", len(files))\n",
    "print(str(path_F) + str(count) + str(path_png))"
   ]
  },
  {
   "cell_type": "code",
   "execution_count": null,
   "id": "c32746ff",
   "metadata": {},
   "outputs": [],
   "source": [
    "while count < len(files):\n",
    "    img = cv2.imread(str(path_F) + str(count) + str(path_png), cv2.IMREAD_COLOR)\n",
    "    img2 = cv2.cvtColor(img, cv2.COLOR_BGR2XYZ)\n",
    "    cv2.imwrite(str(path_save_F) + str(count) + str(path_png), img2)\n",
    "    cv2.imshow(\"image\", img2)\n",
    "    count += 1\n",
    "    cv2.waitKey(0)"
   ]
  }
 ],
 "metadata": {
  "kernelspec": {
   "display_name": "Python 3 (ipykernel)",
   "language": "python",
   "name": "python3"
  },
  "language_info": {
   "codemirror_mode": {
    "name": "ipython",
    "version": 3
   },
   "file_extension": ".py",
   "mimetype": "text/x-python",
   "name": "python",
   "nbconvert_exporter": "python",
   "pygments_lexer": "ipython3",
   "version": "3.9.10"
  }
 },
 "nbformat": 4,
 "nbformat_minor": 5
}
