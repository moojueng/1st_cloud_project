{
 "cells": [
  {
   "cell_type": "code",
   "execution_count": 10,
   "id": "1a668dc2",
   "metadata": {},
   "outputs": [],
   "source": [
    "import sys\n",
    "sys.path.append('C:/Users/jangj/anaconda3/envs/tf/Lib/site-packages')\n",
    "import cv2\n",
    "import numpy as np\n",
    "import matplotlib.pyplot as plt\n",
    "import tensorflow as tf\n",
    "from keras.models import Sequential\n",
    "from keras.layers import Dense\n",
    "from tensorflow.keras.models import load_model"
   ]
  },
  {
   "cell_type": "code",
   "execution_count": 11,
   "id": "ad549dde",
   "metadata": {},
   "outputs": [],
   "source": [
    "model = load_model('save/model-fire-whole.h5')"
   ]
  },
  {
   "cell_type": "code",
   "execution_count": 12,
   "id": "d5c0c87a",
   "metadata": {},
   "outputs": [
    {
     "name": "stdout",
     "output_type": "stream",
     "text": [
      "원본 동영상 너비(가로) : 1920.0, 높이(세로) : 1080.0\n",
      "변환된 동영상 너비(가로) : 1920.0, 높이(세로) : 1080.0\n"
     ]
    }
   ],
   "source": [
    "# VideoCapture : 카메라 열기\n",
    "capture = cv2.VideoCapture('fire1.mp4')\n",
    "\n",
    "# 원본 동영상 크기 정보\n",
    "w = capture.get(cv2.CAP_PROP_FRAME_WIDTH)\n",
    "h = capture.get(cv2.CAP_PROP_FRAME_HEIGHT)\n",
    "print(\"원본 동영상 너비(가로) : {}, 높이(세로) : {}\".format(w, h))\n",
    "\n",
    "# 동영상 크기 변환\n",
    "capture.set(cv2.CAP_PROP_FRAME_WIDTH, 128) # 가로\n",
    "capture.set(cv2.CAP_PROP_FRAME_HEIGHT, 128) # 세로\n",
    "\n",
    "# 변환된 동영상 크기 정보\n",
    "w = capture.get(cv2.CAP_PROP_FRAME_WIDTH)\n",
    "h = capture.get(cv2.CAP_PROP_FRAME_HEIGHT)\n",
    "print(\"변환된 동영상 너비(가로) : {}, 높이(세로) : {}\".format(w, h))\n",
    "\n",
    "while True:\n",
    "    # read : 프레임 읽기\n",
    "    # [return]\n",
    "    # 1) 읽은 결과(True / False)\n",
    "    # 2) 읽은 프레임\n",
    "    retval, frame = capture.read()\n",
    "\n",
    "    # 읽은 프레임이 없는 경우 종료\n",
    "    if not retval:\n",
    "        break\n",
    "    \n",
    "    # 프레임 출력\n",
    "    cv2.imshow(\"resize_frame\", frame)\n",
    "    \n",
    "    # 'q' 를 입력하면 종료\n",
    "    if cv2.waitKey(1) & 0xFF == ord('q'):\n",
    "        break\n",
    "\n",
    "# 동영상 파일 또는 카메라를 닫고 메모리를 해제\n",
    "capture.release()\n",
    "\n",
    "# 모든 창 닫기\n",
    "cv2.destroyAllWindows()"
   ]
  }
 ],
 "metadata": {
  "kernelspec": {
   "display_name": "Python 3 (ipykernel)",
   "language": "python",
   "name": "python3"
  },
  "language_info": {
   "codemirror_mode": {
    "name": "ipython",
    "version": 3
   },
   "file_extension": ".py",
   "mimetype": "text/x-python",
   "name": "python",
   "nbconvert_exporter": "python",
   "pygments_lexer": "ipython3",
   "version": "3.9.10"
  }
 },
 "nbformat": 4,
 "nbformat_minor": 5
}
